{
 "cells": [
  {
   "cell_type": "code",
   "execution_count": 236,
   "metadata": {
    "collapsed": true
   },
   "outputs": [],
   "source": [
    "import os\n",
    "import pandas as pd\n",
    "import matplotlib\n",
    "import numpy as np\n",
    "from scipy.stats import binom, chisquare, chi2, binom\n",
    "from generate_data import Controller\n",
    "import scipy\n",
    "wd = os.path.dirname(os.getcwd())"
   ]
  },
  {
   "cell_type": "code",
   "execution_count": 36,
   "outputs": [],
   "source": [
    "no_mask = pd.read_csv(wd+'/data/no_mask_no_vacc_10k.csv')"
   ],
   "metadata": {
    "collapsed": false
   }
  },
  {
   "cell_type": "code",
   "execution_count": 36,
   "outputs": [],
   "source": [],
   "metadata": {
    "collapsed": false
   }
  },
  {
   "cell_type": "markdown",
   "source": [
    "# Question 1\n",
    "What is the distribution of the number of kids that Tommy infects on Day 1?"
   ],
   "metadata": {
    "collapsed": false
   }
  },
  {
   "cell_type": "markdown",
   "source": [
    "First, pivot the raw data and return a dataframe that shows the number"
   ],
   "metadata": {
    "collapsed": false
   }
  },
  {
   "cell_type": "code",
   "execution_count": 37,
   "outputs": [
    {
     "data": {
      "text/plain": "   contagious  count  percent\n0         1.0   5566   0.5566\n1         2.0   3295   0.3295\n2         3.0    941   0.0941\n3         4.0    171   0.0171\n4         5.0     25   0.0025\n5         6.0      2   0.0002",
      "text/html": "<div>\n<style scoped>\n    .dataframe tbody tr th:only-of-type {\n        vertical-align: middle;\n    }\n\n    .dataframe tbody tr th {\n        vertical-align: top;\n    }\n\n    .dataframe thead th {\n        text-align: right;\n    }\n</style>\n<table border=\"1\" class=\"dataframe\">\n  <thead>\n    <tr style=\"text-align: right;\">\n      <th></th>\n      <th>contagious</th>\n      <th>count</th>\n      <th>percent</th>\n    </tr>\n  </thead>\n  <tbody>\n    <tr>\n      <th>0</th>\n      <td>1.0</td>\n      <td>5566</td>\n      <td>0.5566</td>\n    </tr>\n    <tr>\n      <th>1</th>\n      <td>2.0</td>\n      <td>3295</td>\n      <td>0.3295</td>\n    </tr>\n    <tr>\n      <th>2</th>\n      <td>3.0</td>\n      <td>941</td>\n      <td>0.0941</td>\n    </tr>\n    <tr>\n      <th>3</th>\n      <td>4.0</td>\n      <td>171</td>\n      <td>0.0171</td>\n    </tr>\n    <tr>\n      <th>4</th>\n      <td>5.0</td>\n      <td>25</td>\n      <td>0.0025</td>\n    </tr>\n    <tr>\n      <th>5</th>\n      <td>6.0</td>\n      <td>2</td>\n      <td>0.0002</td>\n    </tr>\n  </tbody>\n</table>\n</div>"
     },
     "execution_count": 37,
     "metadata": {},
     "output_type": "execute_result"
    }
   ],
   "source": [
    "def get_infected_count(day, df):\n",
    "    df = df.loc[no_mask['day'] == day]\n",
    "    pivot_tbl = pd.pivot_table(\n",
    "        df,\n",
    "        index=['contagious'],\n",
    "        values='trial',\n",
    "        aggfunc=[\"count\"],\n",
    "    ).reset_index()\n",
    "    pivot_tbl.columns = ['contagious', 'count']\n",
    "    pivot_tbl['percent'] = pivot_tbl['count']/pivot_tbl['count'].sum()\n",
    "    return df, pivot_tbl\n",
    "\n",
    "\n",
    "day_1_df, day_1_observed = get_infected_count(1, no_mask)\n",
    "day_1_observed"
   ],
   "metadata": {
    "collapsed": false
   }
  },
  {
   "cell_type": "markdown",
   "source": [
    "Now, plot a histogram of the frequencies that the number of infected appears on each day."
   ],
   "metadata": {
    "collapsed": false
   }
  },
  {
   "cell_type": "code",
   "execution_count": 38,
   "outputs": [
    {
     "data": {
      "text/plain": "<Axes: >"
     },
     "execution_count": 38,
     "metadata": {},
     "output_type": "execute_result"
    },
    {
     "data": {
      "text/plain": "<Figure size 640x480 with 1 Axes>",
      "image/png": "[encoded data removed]"
     },
     "metadata": {},
     "output_type": "display_data"
    }
   ],
   "source": [
    "day_1_df['infected'].hist()"
   ],
   "metadata": {
    "collapsed": false
   }
  },
  {
   "cell_type": "markdown",
   "source": [
    "Now, plot what a binomial(30, .02) distribution would look like"
   ],
   "metadata": {
    "collapsed": false
   }
  },
  {
   "cell_type": "code",
   "execution_count": 39,
   "outputs": [
    {
     "data": {
      "text/plain": "<Axes: xlabel='bucket'>"
     },
     "execution_count": 39,
     "metadata": {},
     "output_type": "execute_result"
    },
    {
     "data": {
      "text/plain": "<Figure size 640x480 with 1 Axes>",
      "image/png": "[encoded data removed]"
     },
     "metadata": {},
     "output_type": "display_data"
    }
   ],
   "source": [
    "def binomial_buckets(n, p, k):\n",
    "    df = pd.DataFrame()\n",
    "    df['bucket'] = np.arange(n + 1)\n",
    "    df['frequency'] = binom.pmf(np.arange(n + 1), n, p)\n",
    "    df['frequency'] = df['frequency']\n",
    "    df['population'] = round(df['frequency']*k,0)\n",
    "\n",
    "    return df.set_index('bucket')\n",
    "\n",
    "day_1_expected = binomial_buckets(30, .02, no_mask.trial.max()).loc[:5,:]\n",
    "\n",
    "day_1_expected['frequency'].plot(kind='bar')\n"
   ],
   "metadata": {
    "collapsed": false
   }
  },
  {
   "cell_type": "markdown",
   "source": [
    "Visual inspection tells us our hypothesis may be correct, and to reject the null hypothesis that the distribution is not binoial(30, .02). To confirm this, we will do a chi squared test to confirm our hypothesis."
   ],
   "metadata": {
    "collapsed": false
   }
  },
  {
   "cell_type": "markdown",
   "source": [
    "The sum of the population column may not equal the number of trials we had due to rounding, so we alter the last record to reflect the last bucket to have the remaining number of trials."
   ],
   "metadata": {
    "collapsed": false
   }
  },
  {
   "cell_type": "code",
   "execution_count": 40,
   "outputs": [
    {
     "data": {
      "text/plain": "10000.0"
     },
     "execution_count": 40,
     "metadata": {},
     "output_type": "execute_result"
    }
   ],
   "source": [
    "day_1_expected['population'].sum()"
   ],
   "metadata": {
    "collapsed": false
   }
  },
  {
   "cell_type": "code",
   "execution_count": 115,
   "outputs": [
    {
     "name": "stdout",
     "output_type": "stream",
     "text": [
      "Test Statistic: 7.01 \n",
      "P-value = 0.22\n"
     ]
    }
   ],
   "source": [
    "observed = day_1_observed['count']\n",
    "expected = day_1_expected['population'].astype(int)\n",
    "chi_sq = chisquare(observed,expected)\n",
    "print(f'Test Statistic: {round(chi_sq[0],2)} \\nP-value = {round(chi_sq[1],2)}')"
   ],
   "metadata": {
    "collapsed": false
   }
  },
  {
   "cell_type": "code",
   "execution_count": 48,
   "outputs": [
    {
     "name": "stdout",
     "output_type": "stream",
     "text": [
      "Critical x^2 value = 12.591587243743977\n"
     ]
    }
   ],
   "source": [
    "crit_val = chi2.ppf(1-.05, 6)\n",
    "print(f'Critical x^2 value = {crit_val}')"
   ],
   "metadata": {
    "collapsed": false
   }
  },
  {
   "cell_type": "markdown",
   "source": [
    "The Chi Square test statistic is less than the significant value at a .05% confidence level, and the p-value is greater than .05. Thus, we fail to reject the null hypothesis that the distirbution of students infected on day 1 is distributed as binomial(30, .02)"
   ],
   "metadata": {
    "collapsed": false
   }
  },
  {
   "cell_type": "markdown",
   "source": [
    "# Question 2\n",
    "What is the expected number of kids that Tommy infects on Day 1?"
   ],
   "metadata": {
    "collapsed": false
   }
  },
  {
   "cell_type": "markdown",
   "source": [
    "The expected number of students Tommy infects on day one can be estimated using the simulation, by simply taking the average number of students infected on day 1 (where day 0 is the first day that Tommy came to school) across all trials. Note, this value includes Tommy himself as he is also infected on Day 1."
   ],
   "metadata": {
    "collapsed": false
   }
  },
  {
   "cell_type": "code",
   "execution_count": 80,
   "outputs": [
    {
     "name": "stdout",
     "output_type": "stream",
     "text": [
      "Average number of students infected on day 1: 1.58\n"
     ]
    }
   ],
   "source": [
    "simulated_mean = day_1_df['contagious'].mean()\n",
    "print(f'Average number of students infected on day 1: {simulated_mean}')"
   ],
   "metadata": {
    "collapsed": false
   }
  },
  {
   "cell_type": "markdown",
   "source": [
    "This can also be calculated analytically, by using the expected value formula for a binomial distribution:\n",
    "$$\n",
    "E[X] = np\n",
    "$$\n",
    "\n",
    "Where n is the number of students and p is the probability of tommy infecting other students. Note, this value represent the new infections, so to include tommy we must add 1"
   ],
   "metadata": {
    "collapsed": false
   }
  },
  {
   "cell_type": "code",
   "execution_count": 88,
   "outputs": [
    {
     "name": "stdout",
     "output_type": "stream",
     "text": [
      "Expected value of students infected on day 1: 1.6\n"
     ]
    }
   ],
   "source": [
    "true_mean = 30 * .02 + 1\n",
    "print(f'Expected value of students infected on day 1: {true_mean}')"
   ],
   "metadata": {
    "collapsed": false
   }
  },
  {
   "cell_type": "code",
   "execution_count": 90,
   "outputs": [],
   "source": [
    "day_2_df, day_2_observed = get_infected_count(2, no_mask)"
   ],
   "metadata": {
    "collapsed": false
   }
  },
  {
   "cell_type": "code",
   "execution_count": 94,
   "outputs": [
    {
     "data": {
      "text/plain": "2.4593"
     },
     "execution_count": 94,
     "metadata": {},
     "output_type": "execute_result"
    }
   ],
   "source": [
    "day_2_df['infected'].mean()"
   ],
   "metadata": {
    "collapsed": false
   }
  },
  {
   "cell_type": "code",
   "execution_count": 162,
   "outputs": [
    {
     "data": {
      "text/plain": "    contagious  count  percent\n0          1.0   3080   0.3080\n1          2.0   2903   0.2903\n2          3.0   1961   0.1961\n3          4.0   1094   0.1094\n4          5.0    558   0.0558\n5          6.0    240   0.0240\n6          7.0    116   0.0116\n7          8.0     31   0.0031\n8          9.0     13   0.0013\n9         10.0      3   0.0003\n10        11.0      1   0.0001",
      "text/html": "<div>\n<style scoped>\n    .dataframe tbody tr th:only-of-type {\n        vertical-align: middle;\n    }\n\n    .dataframe tbody tr th {\n        vertical-align: top;\n    }\n\n    .dataframe thead th {\n        text-align: right;\n    }\n</style>\n<table border=\"1\" class=\"dataframe\">\n  <thead>\n    <tr style=\"text-align: right;\">\n      <th></th>\n      <th>contagious</th>\n      <th>count</th>\n      <th>percent</th>\n    </tr>\n  </thead>\n  <tbody>\n    <tr>\n      <th>0</th>\n      <td>1.0</td>\n      <td>3080</td>\n      <td>0.3080</td>\n    </tr>\n    <tr>\n      <th>1</th>\n      <td>2.0</td>\n      <td>2903</td>\n      <td>0.2903</td>\n    </tr>\n    <tr>\n      <th>2</th>\n      <td>3.0</td>\n      <td>1961</td>\n      <td>0.1961</td>\n    </tr>\n    <tr>\n      <th>3</th>\n      <td>4.0</td>\n      <td>1094</td>\n      <td>0.1094</td>\n    </tr>\n    <tr>\n      <th>4</th>\n      <td>5.0</td>\n      <td>558</td>\n      <td>0.0558</td>\n    </tr>\n    <tr>\n      <th>5</th>\n      <td>6.0</td>\n      <td>240</td>\n      <td>0.0240</td>\n    </tr>\n    <tr>\n      <th>6</th>\n      <td>7.0</td>\n      <td>116</td>\n      <td>0.0116</td>\n    </tr>\n    <tr>\n      <th>7</th>\n      <td>8.0</td>\n      <td>31</td>\n      <td>0.0031</td>\n    </tr>\n    <tr>\n      <th>8</th>\n      <td>9.0</td>\n      <td>13</td>\n      <td>0.0013</td>\n    </tr>\n    <tr>\n      <th>9</th>\n      <td>10.0</td>\n      <td>3</td>\n      <td>0.0003</td>\n    </tr>\n    <tr>\n      <th>10</th>\n      <td>11.0</td>\n      <td>1</td>\n      <td>0.0001</td>\n    </tr>\n  </tbody>\n</table>\n</div>"
     },
     "execution_count": 162,
     "metadata": {},
     "output_type": "execute_result"
    }
   ],
   "source": [
    "day_2_observed"
   ],
   "metadata": {
    "collapsed": false
   }
  },
  {
   "cell_type": "markdown",
   "source": [
    "# Question 3\n",
    "What is the expected number of kids that are infected by Day 2 (you can\n",
    "count Tommy if you want)?"
   ],
   "metadata": {
    "collapsed": false
   }
  },
  {
   "cell_type": "code",
   "execution_count": 203,
   "outputs": [],
   "source": [
    "import math\n",
    "def calc_exposure_probability(num_students_infected):\n",
    "    infectiousness_rate = .02\n",
    "    infected_students = [1-infectiousness_rate for i in range(num_students_infected)]\n",
    "    students = infected_students\n",
    "    exposure = 1 - math.prod(students)\n",
    "    return exposure\n",
    "\n",
    "def day_2_infected_prob_given_day_1(day_2_infected, day_1_infected):\n",
    "    susceptible_students = 30-day_1_infected\n",
    "    exposure = calc_exposure_probability(day_1_infected+1)\n",
    "    day_2_prob = binom.pmf(k=day_2_infected,n=susceptible_students,p=exposure)\n",
    "    return day_2_prob\n",
    "\n",
    "def cum_prob_day_2(num_students):\n",
    "    probability_list = []\n",
    "    for s in range(num_students+1):\n",
    "        day_1 = num_students-s\n",
    "        day_2 = num_students-day_1\n",
    "        prob_a_given_b = day_2_infected_prob_given_day_1(day_2,day_1)\n",
    "        prob_a = binom.pmf(k=day_1,n=30,p=.02)\n",
    "        prob_b = prob_a_given_b*prob_a\n",
    "        probability_list.append(prob_b)\n",
    "    return sum(probability_list)\n",
    "\n",
    "data = []\n",
    "for i in range(11):\n",
    "    expected_day_2 = []\n",
    "    additional_students_infected = i\n",
    "    cumulative_probability = cum_prob_day_2(i)\n",
    "    data.append({'infected_students': additional_students_infected,\n",
    "                 'probability': cumulative_probability})\n",
    "    expected_day_2.append(cumulative_probability)\n",
    "expected_day_2 = pd.DataFrame(data)\n",
    "expected_day_2['hfx'] = expected_day_2['probability'] * expected_day_2['infected_students']"
   ],
   "metadata": {
    "collapsed": false
   }
  },
  {
   "cell_type": "code",
   "execution_count": 204,
   "outputs": [
    {
     "data": {
      "text/plain": "    infected_students  probability       hfx\n0                   0     0.297553  0.000000\n1                   1     0.285647  0.285647\n2                   2     0.195743  0.391486\n3                   3     0.115494  0.346483\n4                   4     0.059656  0.238622\n5                   5     0.027537  0.137685\n6                   6     0.011565  0.069388\n7                   7     0.004463  0.031238\n8                   8     0.001591  0.012732\n9                   9     0.000527  0.004739\n10                 10     0.000162  0.001621",
      "text/html": "<div>\n<style scoped>\n    .dataframe tbody tr th:only-of-type {\n        vertical-align: middle;\n    }\n\n    .dataframe tbody tr th {\n        vertical-align: top;\n    }\n\n    .dataframe thead th {\n        text-align: right;\n    }\n</style>\n<table border=\"1\" class=\"dataframe\">\n  <thead>\n    <tr style=\"text-align: right;\">\n      <th></th>\n      <th>infected_students</th>\n      <th>probability</th>\n      <th>hfx</th>\n    </tr>\n  </thead>\n  <tbody>\n    <tr>\n      <th>0</th>\n      <td>0</td>\n      <td>0.297553</td>\n      <td>0.000000</td>\n    </tr>\n    <tr>\n      <th>1</th>\n      <td>1</td>\n      <td>0.285647</td>\n      <td>0.285647</td>\n    </tr>\n    <tr>\n      <th>2</th>\n      <td>2</td>\n      <td>0.195743</td>\n      <td>0.391486</td>\n    </tr>\n    <tr>\n      <th>3</th>\n      <td>3</td>\n      <td>0.115494</td>\n      <td>0.346483</td>\n    </tr>\n    <tr>\n      <th>4</th>\n      <td>4</td>\n      <td>0.059656</td>\n      <td>0.238622</td>\n    </tr>\n    <tr>\n      <th>5</th>\n      <td>5</td>\n      <td>0.027537</td>\n      <td>0.137685</td>\n    </tr>\n    <tr>\n      <th>6</th>\n      <td>6</td>\n      <td>0.011565</td>\n      <td>0.069388</td>\n    </tr>\n    <tr>\n      <th>7</th>\n      <td>7</td>\n      <td>0.004463</td>\n      <td>0.031238</td>\n    </tr>\n    <tr>\n      <th>8</th>\n      <td>8</td>\n      <td>0.001591</td>\n      <td>0.012732</td>\n    </tr>\n    <tr>\n      <th>9</th>\n      <td>9</td>\n      <td>0.000527</td>\n      <td>0.004739</td>\n    </tr>\n    <tr>\n      <th>10</th>\n      <td>10</td>\n      <td>0.000162</td>\n      <td>0.001621</td>\n    </tr>\n  </tbody>\n</table>\n</div>"
     },
     "execution_count": 204,
     "metadata": {},
     "output_type": "execute_result"
    }
   ],
   "source": [
    "expected_day_2"
   ],
   "metadata": {
    "collapsed": false
   }
  },
  {
   "cell_type": "code",
   "execution_count": 205,
   "outputs": [
    {
     "data": {
      "text/plain": "1.5196409932865926"
     },
     "execution_count": 205,
     "metadata": {},
     "output_type": "execute_result"
    }
   ],
   "source": [
    "expected_day_2['hfx'].sum()"
   ],
   "metadata": {
    "collapsed": false
   }
  },
  {
   "cell_type": "code",
   "execution_count": 206,
   "outputs": [
    {
     "data": {
      "text/plain": "2.4593"
     },
     "execution_count": 206,
     "metadata": {},
     "output_type": "execute_result"
    }
   ],
   "source": [
    "day_2_df['infected'].mean()"
   ],
   "metadata": {
    "collapsed": false
   }
  },
  {
   "cell_type": "markdown",
   "source": [
    "## Question 3b\n",
    "Create a histogram of how long the pandemic will last"
   ],
   "metadata": {
    "collapsed": false
   }
  },
  {
   "cell_type": "code",
   "execution_count": 208,
   "outputs": [
    {
     "data": {
      "text/plain": "    Unnamed: 0  trial   day  masked  vaccinated  infected  contagious  \\\n0            0    1.0   0.0     0.0         0.0       1.0         1.0   \n1            1    1.0   1.0     0.0         0.0       3.0         3.0   \n2            2    1.0   2.0     0.0         0.0       5.0         5.0   \n3            3    1.0   3.0     0.0         0.0       9.0         6.0   \n4            4    1.0   4.0     0.0         0.0      12.0         7.0   \n5            5    1.0   5.0     0.0         0.0      17.0         8.0   \n6            6    1.0   6.0     0.0         0.0      20.0         8.0   \n7            7    1.0   7.0     0.0         0.0      22.0         5.0   \n8            8    1.0   8.0     0.0         0.0      22.0         2.0   \n9            9    1.0   9.0     0.0         0.0      22.0         0.0   \n10          10    1.0  10.0     0.0         0.0      22.0         0.0   \n11          11    1.0  11.0     0.0         0.0      22.0         0.0   \n12          12    1.0  12.0     0.0         0.0      22.0         0.0   \n13          13    1.0  13.0     0.0         0.0      22.0         0.0   \n14          14    1.0  14.0     0.0         0.0      22.0         0.0   \n15          15    1.0  15.0     0.0         0.0      22.0         0.0   \n16          16    1.0  16.0     0.0         0.0      22.0         0.0   \n17          17    1.0  17.0     0.0         0.0      22.0         0.0   \n18          18    1.0  18.0     0.0         0.0      22.0         0.0   \n19          19    1.0  19.0     0.0         0.0      22.0         0.0   \n20          20    1.0  20.0     0.0         0.0      22.0         0.0   \n21          21    1.0  21.0     0.0         0.0      22.0         0.0   \n22          22    1.0  22.0     0.0         0.0      22.0         0.0   \n23          23    1.0  23.0     0.0         0.0      22.0         0.0   \n24          24    1.0  24.0     0.0         0.0      22.0         0.0   \n25          25    1.0  25.0     0.0         0.0      22.0         0.0   \n26          26    1.0  26.0     0.0         0.0      22.0         0.0   \n27          27    1.0  27.0     0.0         0.0      22.0         0.0   \n28          28    1.0  28.0     0.0         0.0      22.0         0.0   \n29          29    1.0  29.0     0.0         0.0      22.0         0.0   \n\n    exposure  \n0   0.020000  \n1   0.058808  \n2   0.096079  \n3   0.114158  \n4   0.131874  \n5   0.149237  \n6   0.149237  \n7   0.096079  \n8   0.039600  \n9   0.000000  \n10  0.000000  \n11  0.000000  \n12  0.000000  \n13  0.000000  \n14  0.000000  \n15  0.000000  \n16  0.000000  \n17  0.000000  \n18  0.000000  \n19  0.000000  \n20  0.000000  \n21  0.000000  \n22  0.000000  \n23  0.000000  \n24  0.000000  \n25  0.000000  \n26  0.000000  \n27  0.000000  \n28  0.000000  \n29  0.000000  ",
      "text/html": "<div>\n<style scoped>\n    .dataframe tbody tr th:only-of-type {\n        vertical-align: middle;\n    }\n\n    .dataframe tbody tr th {\n        vertical-align: top;\n    }\n\n    .dataframe thead th {\n        text-align: right;\n    }\n</style>\n<table border=\"1\" class=\"dataframe\">\n  <thead>\n    <tr style=\"text-align: right;\">\n      <th></th>\n      <th>Unnamed: 0</th>\n      <th>trial</th>\n      <th>day</th>\n      <th>masked</th>\n      <th>vaccinated</th>\n      <th>infected</th>\n      <th>contagious</th>\n      <th>exposure</th>\n    </tr>\n  </thead>\n  <tbody>\n    <tr>\n      <th>0</th>\n      <td>0</td>\n      <td>1.0</td>\n      <td>0.0</td>\n      <td>0.0</td>\n      <td>0.0</td>\n      <td>1.0</td>\n      <td>1.0</td>\n      <td>0.020000</td>\n    </tr>\n    <tr>\n      <th>1</th>\n      <td>1</td>\n      <td>1.0</td>\n      <td>1.0</td>\n      <td>0.0</td>\n      <td>0.0</td>\n      <td>3.0</td>\n      <td>3.0</td>\n      <td>0.058808</td>\n    </tr>\n    <tr>\n      <th>2</th>\n      <td>2</td>\n      <td>1.0</td>\n      <td>2.0</td>\n      <td>0.0</td>\n      <td>0.0</td>\n      <td>5.0</td>\n      <td>5.0</td>\n      <td>0.096079</td>\n    </tr>\n    <tr>\n      <th>3</th>\n      <td>3</td>\n      <td>1.0</td>\n      <td>3.0</td>\n      <td>0.0</td>\n      <td>0.0</td>\n      <td>9.0</td>\n      <td>6.0</td>\n      <td>0.114158</td>\n    </tr>\n    <tr>\n      <th>4</th>\n      <td>4</td>\n      <td>1.0</td>\n      <td>4.0</td>\n      <td>0.0</td>\n      <td>0.0</td>\n      <td>12.0</td>\n      <td>7.0</td>\n      <td>0.131874</td>\n    </tr>\n    <tr>\n      <th>5</th>\n      <td>5</td>\n      <td>1.0</td>\n      <td>5.0</td>\n      <td>0.0</td>\n      <td>0.0</td>\n      <td>17.0</td>\n      <td>8.0</td>\n      <td>0.149237</td>\n    </tr>\n    <tr>\n      <th>6</th>\n      <td>6</td>\n      <td>1.0</td>\n      <td>6.0</td>\n      <td>0.0</td>\n      <td>0.0</td>\n      <td>20.0</td>\n      <td>8.0</td>\n      <td>0.149237</td>\n    </tr>\n    <tr>\n      <th>7</th>\n      <td>7</td>\n      <td>1.0</td>\n      <td>7.0</td>\n      <td>0.0</td>\n      <td>0.0</td>\n      <td>22.0</td>\n      <td>5.0</td>\n      <td>0.096079</td>\n    </tr>\n    <tr>\n      <th>8</th>\n      <td>8</td>\n      <td>1.0</td>\n      <td>8.0</td>\n      <td>0.0</td>\n      <td>0.0</td>\n      <td>22.0</td>\n      <td>2.0</td>\n      <td>0.039600</td>\n    </tr>\n    <tr>\n      <th>9</th>\n      <td>9</td>\n      <td>1.0</td>\n      <td>9.0</td>\n      <td>0.0</td>\n      <td>0.0</td>\n      <td>22.0</td>\n      <td>0.0</td>\n      <td>0.000000</td>\n    </tr>\n    <tr>\n      <th>10</th>\n      <td>10</td>\n      <td>1.0</td>\n      <td>10.0</td>\n      <td>0.0</td>\n      <td>0.0</td>\n      <td>22.0</td>\n      <td>0.0</td>\n      <td>0.000000</td>\n    </tr>\n    <tr>\n      <th>11</th>\n      <td>11</td>\n      <td>1.0</td>\n      <td>11.0</td>\n      <td>0.0</td>\n      <td>0.0</td>\n      <td>22.0</td>\n      <td>0.0</td>\n      <td>0.000000</td>\n    </tr>\n    <tr>\n      <th>12</th>\n      <td>12</td>\n      <td>1.0</td>\n      <td>12.0</td>\n      <td>0.0</td>\n      <td>0.0</td>\n      <td>22.0</td>\n      <td>0.0</td>\n      <td>0.000000</td>\n    </tr>\n    <tr>\n      <th>13</th>\n      <td>13</td>\n      <td>1.0</td>\n      <td>13.0</td>\n      <td>0.0</td>\n      <td>0.0</td>\n      <td>22.0</td>\n      <td>0.0</td>\n      <td>0.000000</td>\n    </tr>\n    <tr>\n      <th>14</th>\n      <td>14</td>\n      <td>1.0</td>\n      <td>14.0</td>\n      <td>0.0</td>\n      <td>0.0</td>\n      <td>22.0</td>\n      <td>0.0</td>\n      <td>0.000000</td>\n    </tr>\n    <tr>\n      <th>15</th>\n      <td>15</td>\n      <td>1.0</td>\n      <td>15.0</td>\n      <td>0.0</td>\n      <td>0.0</td>\n      <td>22.0</td>\n      <td>0.0</td>\n      <td>0.000000</td>\n    </tr>\n    <tr>\n      <th>16</th>\n      <td>16</td>\n      <td>1.0</td>\n      <td>16.0</td>\n      <td>0.0</td>\n      <td>0.0</td>\n      <td>22.0</td>\n      <td>0.0</td>\n      <td>0.000000</td>\n    </tr>\n    <tr>\n      <th>17</th>\n      <td>17</td>\n      <td>1.0</td>\n      <td>17.0</td>\n      <td>0.0</td>\n      <td>0.0</td>\n      <td>22.0</td>\n      <td>0.0</td>\n      <td>0.000000</td>\n    </tr>\n    <tr>\n      <th>18</th>\n      <td>18</td>\n      <td>1.0</td>\n      <td>18.0</td>\n      <td>0.0</td>\n      <td>0.0</td>\n      <td>22.0</td>\n      <td>0.0</td>\n      <td>0.000000</td>\n    </tr>\n    <tr>\n      <th>19</th>\n      <td>19</td>\n      <td>1.0</td>\n      <td>19.0</td>\n      <td>0.0</td>\n      <td>0.0</td>\n      <td>22.0</td>\n      <td>0.0</td>\n      <td>0.000000</td>\n    </tr>\n    <tr>\n      <th>20</th>\n      <td>20</td>\n      <td>1.0</td>\n      <td>20.0</td>\n      <td>0.0</td>\n      <td>0.0</td>\n      <td>22.0</td>\n      <td>0.0</td>\n      <td>0.000000</td>\n    </tr>\n    <tr>\n      <th>21</th>\n      <td>21</td>\n      <td>1.0</td>\n      <td>21.0</td>\n      <td>0.0</td>\n      <td>0.0</td>\n      <td>22.0</td>\n      <td>0.0</td>\n      <td>0.000000</td>\n    </tr>\n    <tr>\n      <th>22</th>\n      <td>22</td>\n      <td>1.0</td>\n      <td>22.0</td>\n      <td>0.0</td>\n      <td>0.0</td>\n      <td>22.0</td>\n      <td>0.0</td>\n      <td>0.000000</td>\n    </tr>\n    <tr>\n      <th>23</th>\n      <td>23</td>\n      <td>1.0</td>\n      <td>23.0</td>\n      <td>0.0</td>\n      <td>0.0</td>\n      <td>22.0</td>\n      <td>0.0</td>\n      <td>0.000000</td>\n    </tr>\n    <tr>\n      <th>24</th>\n      <td>24</td>\n      <td>1.0</td>\n      <td>24.0</td>\n      <td>0.0</td>\n      <td>0.0</td>\n      <td>22.0</td>\n      <td>0.0</td>\n      <td>0.000000</td>\n    </tr>\n    <tr>\n      <th>25</th>\n      <td>25</td>\n      <td>1.0</td>\n      <td>25.0</td>\n      <td>0.0</td>\n      <td>0.0</td>\n      <td>22.0</td>\n      <td>0.0</td>\n      <td>0.000000</td>\n    </tr>\n    <tr>\n      <th>26</th>\n      <td>26</td>\n      <td>1.0</td>\n      <td>26.0</td>\n      <td>0.0</td>\n      <td>0.0</td>\n      <td>22.0</td>\n      <td>0.0</td>\n      <td>0.000000</td>\n    </tr>\n    <tr>\n      <th>27</th>\n      <td>27</td>\n      <td>1.0</td>\n      <td>27.0</td>\n      <td>0.0</td>\n      <td>0.0</td>\n      <td>22.0</td>\n      <td>0.0</td>\n      <td>0.000000</td>\n    </tr>\n    <tr>\n      <th>28</th>\n      <td>28</td>\n      <td>1.0</td>\n      <td>28.0</td>\n      <td>0.0</td>\n      <td>0.0</td>\n      <td>22.0</td>\n      <td>0.0</td>\n      <td>0.000000</td>\n    </tr>\n    <tr>\n      <th>29</th>\n      <td>29</td>\n      <td>1.0</td>\n      <td>29.0</td>\n      <td>0.0</td>\n      <td>0.0</td>\n      <td>22.0</td>\n      <td>0.0</td>\n      <td>0.000000</td>\n    </tr>\n  </tbody>\n</table>\n</div>"
     },
     "execution_count": 208,
     "metadata": {},
     "output_type": "execute_result"
    }
   ],
   "source": [
    "no_mask.head(30)"
   ],
   "metadata": {
    "collapsed": false
   }
  },
  {
   "cell_type": "code",
   "execution_count": 250,
   "outputs": [
    {
     "data": {
      "text/plain": "        trial  lastDay\n0         1.0      9.0\n1         2.0     16.0\n2         3.0      7.0\n3         4.0     10.0\n4         5.0      4.0\n...       ...      ...\n9995   9996.0      7.0\n9996   9997.0      8.0\n9997   9998.0     12.0\n9998   9999.0     16.0\n9999  10000.0      4.0\n\n[10000 rows x 2 columns]",
      "text/html": "<div>\n<style scoped>\n    .dataframe tbody tr th:only-of-type {\n        vertical-align: middle;\n    }\n\n    .dataframe tbody tr th {\n        vertical-align: top;\n    }\n\n    .dataframe thead th {\n        text-align: right;\n    }\n</style>\n<table border=\"1\" class=\"dataframe\">\n  <thead>\n    <tr style=\"text-align: right;\">\n      <th></th>\n      <th>trial</th>\n      <th>lastDay</th>\n    </tr>\n  </thead>\n  <tbody>\n    <tr>\n      <th>0</th>\n      <td>1.0</td>\n      <td>9.0</td>\n    </tr>\n    <tr>\n      <th>1</th>\n      <td>2.0</td>\n      <td>16.0</td>\n    </tr>\n    <tr>\n      <th>2</th>\n      <td>3.0</td>\n      <td>7.0</td>\n    </tr>\n    <tr>\n      <th>3</th>\n      <td>4.0</td>\n      <td>10.0</td>\n    </tr>\n    <tr>\n      <th>4</th>\n      <td>5.0</td>\n      <td>4.0</td>\n    </tr>\n    <tr>\n      <th>...</th>\n      <td>...</td>\n      <td>...</td>\n    </tr>\n    <tr>\n      <th>9995</th>\n      <td>9996.0</td>\n      <td>7.0</td>\n    </tr>\n    <tr>\n      <th>9996</th>\n      <td>9997.0</td>\n      <td>8.0</td>\n    </tr>\n    <tr>\n      <th>9997</th>\n      <td>9998.0</td>\n      <td>12.0</td>\n    </tr>\n    <tr>\n      <th>9998</th>\n      <td>9999.0</td>\n      <td>16.0</td>\n    </tr>\n    <tr>\n      <th>9999</th>\n      <td>10000.0</td>\n      <td>4.0</td>\n    </tr>\n  </tbody>\n</table>\n<p>10000 rows × 2 columns</p>\n</div>"
     },
     "execution_count": 250,
     "metadata": {},
     "output_type": "execute_result"
    }
   ],
   "source": [
    "pandemic_length = no_mask.loc[no_mask['contagious'] == 0]\n",
    "pandemic_length = pd.pivot_table(\n",
    "    pandemic_length,\n",
    "    index=['trial'],\n",
    "    values='day',\n",
    "    aggfunc=[\"min\"],\n",
    ").reset_index()\n",
    "pandemic_length.columns = ['trial', 'lastDay']\n",
    "pandemic_length"
   ],
   "metadata": {
    "collapsed": false
   }
  },
  {
   "cell_type": "code",
   "execution_count": 254,
   "outputs": [
    {
     "data": {
      "text/plain": "<Figure size 640x480 with 1 Axes>",
      "image/png": "[encoded data removed]"
     },
     "metadata": {},
     "output_type": "display_data"
    }
   ],
   "source": [
    "import matplotlib.pyplot as plt\n",
    "plt.hist(pandemic_length['lastDay'], bins=range(30))  # Adjust the bins as needed\n",
    "plt.xlabel('Pandemic Length')\n",
    "plt.ylabel('Frequency')\n",
    "plt.title('Length of Pandemic (10k trials)')\n",
    "plt.grid(True)\n",
    "# plt.show()"
   ],
   "metadata": {
    "collapsed": false
   }
  },
  {
   "cell_type": "markdown",
   "source": [
    "# Question 5\n",
    "What if each kid has a 50-50 chance of being immunized?"
   ],
   "metadata": {
    "collapsed": false
   }
  },
  {
   "cell_type": "markdown",
   "source": [
    "Generate the data"
   ],
   "metadata": {
    "collapsed": false
   }
  },
  {
   "cell_type": "code",
   "execution_count": 240,
   "outputs": [],
   "source": [
    "sim = Controller(number_of_students=30,\n",
    "                     vaccinated_percentage=.5,\n",
    "                     vaccine_efficiency=1,\n",
    "                     masked_percentage=0,\n",
    "                     mask_effectiveness=.5,\n",
    "                     infectiousness=.02,\n",
    "                     sim_length=30,\n",
    "                     num_trials=10000)\n",
    "\n",
    "sim.run_Simulation()\n",
    "current_directory = os.getcwd()\n",
    "parent_directory = os.path.dirname(current_directory)\n",
    "sim.sim_results.to_csv(parent_directory+'/data/50pcnt_vacc_10k.csv')"
   ],
   "metadata": {
    "collapsed": false
   }
  },
  {
   "cell_type": "code",
   "execution_count": 241,
   "outputs": [],
   "source": [
    "vacc_df = pd.read_csv(wd+'/data/50pcnt_vacc_10k.csv')"
   ],
   "metadata": {
    "collapsed": false
   }
  },
  {
   "cell_type": "code",
   "execution_count": 255,
   "outputs": [
    {
     "data": {
      "text/plain": "        trial  lastDay\n0         1.0      3.0\n1         2.0      3.0\n2         3.0      3.0\n3         4.0      3.0\n4         5.0      4.0\n...       ...      ...\n9995   9996.0      3.0\n9996   9997.0      3.0\n9997   9998.0      3.0\n9998   9999.0      3.0\n9999  10000.0      3.0\n\n[10000 rows x 2 columns]",
      "text/html": "<div>\n<style scoped>\n    .dataframe tbody tr th:only-of-type {\n        vertical-align: middle;\n    }\n\n    .dataframe tbody tr th {\n        vertical-align: top;\n    }\n\n    .dataframe thead th {\n        text-align: right;\n    }\n</style>\n<table border=\"1\" class=\"dataframe\">\n  <thead>\n    <tr style=\"text-align: right;\">\n      <th></th>\n      <th>trial</th>\n      <th>lastDay</th>\n    </tr>\n  </thead>\n  <tbody>\n    <tr>\n      <th>0</th>\n      <td>1.0</td>\n      <td>3.0</td>\n    </tr>\n    <tr>\n      <th>1</th>\n      <td>2.0</td>\n      <td>3.0</td>\n    </tr>\n    <tr>\n      <th>2</th>\n      <td>3.0</td>\n      <td>3.0</td>\n    </tr>\n    <tr>\n      <th>3</th>\n      <td>4.0</td>\n      <td>3.0</td>\n    </tr>\n    <tr>\n      <th>4</th>\n      <td>5.0</td>\n      <td>4.0</td>\n    </tr>\n    <tr>\n      <th>...</th>\n      <td>...</td>\n      <td>...</td>\n    </tr>\n    <tr>\n      <th>9995</th>\n      <td>9996.0</td>\n      <td>3.0</td>\n    </tr>\n    <tr>\n      <th>9996</th>\n      <td>9997.0</td>\n      <td>3.0</td>\n    </tr>\n    <tr>\n      <th>9997</th>\n      <td>9998.0</td>\n      <td>3.0</td>\n    </tr>\n    <tr>\n      <th>9998</th>\n      <td>9999.0</td>\n      <td>3.0</td>\n    </tr>\n    <tr>\n      <th>9999</th>\n      <td>10000.0</td>\n      <td>3.0</td>\n    </tr>\n  </tbody>\n</table>\n<p>10000 rows × 2 columns</p>\n</div>"
     },
     "execution_count": 255,
     "metadata": {},
     "output_type": "execute_result"
    }
   ],
   "source": [
    "pandemic_length_vacc = vacc_df.loc[vacc_df['contagious'] == 0]\n",
    "pandemic_length_vacc = pd.pivot_table(\n",
    "    pandemic_length_vacc,\n",
    "    index=['trial'],\n",
    "    values='day',\n",
    "    aggfunc=[\"min\"],\n",
    ").reset_index()\n",
    "pandemic_length_vacc.columns = ['trial', 'lastDay']\n",
    "pandemic_length_vacc"
   ],
   "metadata": {
    "collapsed": false
   }
  },
  {
   "cell_type": "code",
   "execution_count": 256,
   "outputs": [
    {
     "data": {
      "text/plain": "<Figure size 640x480 with 1 Axes>",
      "image/png": "[encoded data removed]"
     },
     "metadata": {},
     "output_type": "display_data"
    }
   ],
   "source": [
    "plt.hist(pandemic_length_vacc['lastDay'], bins=range(30))  # Adjust the bins as needed\n",
    "plt.xlabel('Pandemic Length')\n",
    "plt.ylabel('Frequency')\n",
    "plt.title('Length of Pandemic (10k trials)')\n",
    "plt.grid(True)"
   ],
   "metadata": {
    "collapsed": false
   }
  },
  {
   "cell_type": "code",
   "execution_count": 244,
   "outputs": [],
   "source": [
    "day_1_df_vacc, day_1_observed_vacc = get_infected_count(1, vacc_df)"
   ],
   "metadata": {
    "collapsed": false
   }
  }
 ],
 "metadata": {
  "kernelspec": {
   "display_name": "Python 3",
   "language": "python",
   "name": "python3"
  },
  "language_info": {
   "codemirror_mode": {
    "name": "ipython",
    "version": 2
   },
   "file_extension": ".py",
   "mimetype": "text/x-python",
   "name": "python",
   "nbconvert_exporter": "python",
   "pygments_lexer": "ipython2",
   "version": "2.7.6"
  }
 },
 "nbformat": 4,
 "nbformat_minor": 0
}
