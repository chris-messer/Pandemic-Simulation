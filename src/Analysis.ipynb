{
 "cells": [
  {
   "cell_type": "code",
   "execution_count": 148,
   "metadata": {
    "collapsed": true
   },
   "outputs": [],
   "source": [
    "import os\n",
    "import pandas as pd\n",
    "import matplotlib\n",
    "import numpy as np\n",
    "from scipy.stats import binom, chisquare, chi2\n",
    "\n",
    "wd = os.path.dirname(os.getcwd())"
   ]
  },
  {
   "cell_type": "code",
   "execution_count": 19,
   "outputs": [],
   "source": [
    "no_mask = pd.read_csv(wd+'/data/no_mask_no_vacc_10k.csv')"
   ],
   "metadata": {
    "collapsed": false
   }
  },
  {
   "cell_type": "code",
   "execution_count": 17,
   "outputs": [],
   "source": [],
   "metadata": {
    "collapsed": false
   }
  },
  {
   "cell_type": "markdown",
   "source": [
    "# Question 1\n",
    "What is the distribution of the number of kids that Tommy infects on Day 1?"
   ],
   "metadata": {
    "collapsed": false
   }
  },
  {
   "cell_type": "markdown",
   "source": [
    "First, pivot the raw data and return a dataframe that shows the number"
   ],
   "metadata": {
    "collapsed": false
   }
  },
  {
   "cell_type": "code",
   "execution_count": 108,
   "outputs": [
    {
     "data": {
      "text/plain": "   contagious  count  percent\n0         1.0  27733  0.55466\n1         2.0  16492  0.32984\n2         3.0   4779  0.09558\n3         4.0    850  0.01700\n4         5.0    130  0.00260\n5         6.0     16  0.00032",
      "text/html": "<div>\n<style scoped>\n    .dataframe tbody tr th:only-of-type {\n        vertical-align: middle;\n    }\n\n    .dataframe tbody tr th {\n        vertical-align: top;\n    }\n\n    .dataframe thead th {\n        text-align: right;\n    }\n</style>\n<table border=\"1\" class=\"dataframe\">\n  <thead>\n    <tr style=\"text-align: right;\">\n      <th></th>\n      <th>contagious</th>\n      <th>count</th>\n      <th>percent</th>\n    </tr>\n  </thead>\n  <tbody>\n    <tr>\n      <th>0</th>\n      <td>1.0</td>\n      <td>27733</td>\n      <td>0.55466</td>\n    </tr>\n    <tr>\n      <th>1</th>\n      <td>2.0</td>\n      <td>16492</td>\n      <td>0.32984</td>\n    </tr>\n    <tr>\n      <th>2</th>\n      <td>3.0</td>\n      <td>4779</td>\n      <td>0.09558</td>\n    </tr>\n    <tr>\n      <th>3</th>\n      <td>4.0</td>\n      <td>850</td>\n      <td>0.01700</td>\n    </tr>\n    <tr>\n      <th>4</th>\n      <td>5.0</td>\n      <td>130</td>\n      <td>0.00260</td>\n    </tr>\n    <tr>\n      <th>5</th>\n      <td>6.0</td>\n      <td>16</td>\n      <td>0.00032</td>\n    </tr>\n  </tbody>\n</table>\n</div>"
     },
     "execution_count": 108,
     "metadata": {},
     "output_type": "execute_result"
    }
   ],
   "source": [
    "def get_infected_count(day, df):\n",
    "    df = df.loc[no_mask['day'] == day]\n",
    "    pivot_tbl = pd.pivot_table(\n",
    "        df,\n",
    "        index=['contagious'],\n",
    "        values='trial',\n",
    "        aggfunc=[\"count\"],\n",
    "    ).reset_index()\n",
    "    pivot_tbl.columns = ['contagious', 'count']\n",
    "    pivot_tbl['percent'] = pivot_tbl['count']/pivot_tbl['count'].sum()\n",
    "    return df, pivot_tbl\n",
    "\n",
    "\n",
    "day_1_df, day_1_observed = get_infected_count(1, no_mask)\n",
    "day_1_observed"
   ],
   "metadata": {
    "collapsed": false
   }
  },
  {
   "cell_type": "markdown",
   "source": [
    "Now, plot a histogram of the frequencies that the number of infected appears on each day."
   ],
   "metadata": {
    "collapsed": false
   }
  },
  {
   "cell_type": "code",
   "execution_count": 109,
   "outputs": [
    {
     "data": {
      "text/plain": "<Axes: >"
     },
     "execution_count": 109,
     "metadata": {},
     "output_type": "execute_result"
    },
    {
     "data": {
      "text/plain": "<Figure size 640x480 with 1 Axes>",
      "image/png": "[encoded data removed]"
     },
     "metadata": {},
     "output_type": "display_data"
    }
   ],
   "source": [
    "day_1_df['infected'].hist()"
   ],
   "metadata": {
    "collapsed": false
   }
  },
  {
   "cell_type": "markdown",
   "source": [
    "Now, plot what a binomial(30, .02) distribution would look like"
   ],
   "metadata": {
    "collapsed": false
   }
  },
  {
   "cell_type": "code",
   "execution_count": 121,
   "outputs": [
    {
     "data": {
      "text/plain": "<Axes: xlabel='bucket'>"
     },
     "execution_count": 121,
     "metadata": {},
     "output_type": "execute_result"
    },
    {
     "data": {
      "text/plain": "<Figure size 640x480 with 1 Axes>",
      "image/png": "[encoded data removed]"
     },
     "metadata": {},
     "output_type": "display_data"
    }
   ],
   "source": [
    "def binomial_buckets(n, p, k):\n",
    "    df = pd.DataFrame()\n",
    "    df['bucket'] = np.arange(n + 1)\n",
    "    df['frequency'] = binom.pmf(np.arange(n + 1), n, p)\n",
    "    df['frequency'] = df['frequency']\n",
    "    df['population'] = round(df['frequency']*k,0)\n",
    "\n",
    "    return df.set_index('bucket')\n",
    "\n",
    "day_1_expected = binomial_buckets(30, .02, 50000).loc[:5,:]\n",
    "\n",
    "day_1_expected['frequency'].plot(kind='bar')\n"
   ],
   "metadata": {
    "collapsed": false
   }
  },
  {
   "cell_type": "markdown",
   "source": [
    "Visual inspection tells us our hypothesis may be correct, and to reject the null hypothesis that the distribution is not binoial(30, .02). To confirm this, we will do a chi squared test to confirm our hypothesis."
   ],
   "metadata": {
    "collapsed": false
   }
  },
  {
   "cell_type": "markdown",
   "source": [
    "The sum of the population column may not equal the number of trials we had due to rounding, so we alter the last record to reflect the last bucket to have the remaining number of trials."
   ],
   "metadata": {
    "collapsed": false
   }
  },
  {
   "cell_type": "code",
   "execution_count": 115,
   "outputs": [
    {
     "data": {
      "text/plain": "49998.0"
     },
     "execution_count": 115,
     "metadata": {},
     "output_type": "execute_result"
    }
   ],
   "source": [
    "day_1_expected['population'].sum()"
   ],
   "metadata": {
    "collapsed": false
   }
  },
  {
   "cell_type": "code",
   "execution_count": 122,
   "outputs": [],
   "source": [
    "day_1_expected.loc[6] = 0\n",
    "day_1_expected.iloc[6,0] = 1 - day_1_expected.frequency.sum()\n",
    "day_1_expected.iloc[6,1] = 50000 - day_1_expected.population.sum()\n",
    "\n",
    "# now adding a record to the expected column of the observed values to align the shape of the two\n",
    "day_1_observed.loc[6] = 0"
   ],
   "metadata": {
    "collapsed": false
   }
  },
  {
   "cell_type": "code",
   "execution_count": 184,
   "outputs": [
    {
     "data": {
      "text/plain": "[13866.500000000002, 8246.0, 2389.5, 425.00000000000006, 65.0, 8.0, 0.0]"
     },
     "execution_count": 184,
     "metadata": {},
     "output_type": "execute_result"
    }
   ],
   "source": [
    "o = [i * 25000 for i in day_1_observed['percent'].to_list()]\n",
    "o"
   ],
   "metadata": {
    "collapsed": false
   }
  },
  {
   "cell_type": "code",
   "execution_count": 185,
   "outputs": [
    {
     "data": {
      "text/plain": "[13637.107984560935,\n 8349.249786465874,\n 2470.696365382759,\n 470.60883150147805,\n 64.82876760479543,\n 6.879787582549698,\n 0.6284769016068337]"
     },
     "execution_count": 185,
     "metadata": {},
     "output_type": "execute_result"
    }
   ],
   "source": [
    "e = [i * 25000 for i in day_1_expected.frequency.to_list()]\n",
    "e"
   ],
   "metadata": {
    "collapsed": false
   }
  },
  {
   "cell_type": "code",
   "execution_count": 186,
   "outputs": [
    {
     "data": {
      "text/plain": "Power_divergenceResult(statistic=13.035369422761061, pvalue=0.042477703473837516)"
     },
     "execution_count": 186,
     "metadata": {},
     "output_type": "execute_result"
    }
   ],
   "source": [
    "chisquare(o, e)\n"
   ],
   "metadata": {
    "collapsed": false
   }
  },
  {
   "cell_type": "code",
   "execution_count": 128,
   "outputs": [
    {
     "data": {
      "text/plain": "Power_divergenceResult(statistic=0.97, pvalue=0.9143103371949634)"
     },
     "execution_count": 128,
     "metadata": {},
     "output_type": "execute_result"
    }
   ],
   "source": [
    "chisquare([190,205,198,199,208],[200,200,200,200,200])"
   ],
   "metadata": {
    "collapsed": false
   }
  },
  {
   "cell_type": "code",
   "execution_count": 160,
   "outputs": [
    {
     "data": {
      "text/plain": "12.591587243743977"
     },
     "execution_count": 160,
     "metadata": {},
     "output_type": "execute_result"
    }
   ],
   "source": [
    "chi2.ppf(1-.05, 6)"
   ],
   "metadata": {
    "collapsed": false
   }
  }
 ],
 "metadata": {
  "kernelspec": {
   "display_name": "Python 3",
   "language": "python",
   "name": "python3"
  },
  "language_info": {
   "codemirror_mode": {
    "name": "ipython",
    "version": 2
   },
   "file_extension": ".py",
   "mimetype": "text/x-python",
   "name": "python",
   "nbconvert_exporter": "python",
   "pygments_lexer": "ipython2",
   "version": "2.7.6"
  }
 },
 "nbformat": 4,
 "nbformat_minor": 0
}
