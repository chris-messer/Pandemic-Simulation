{
 "cells": [
  {
   "cell_type": "code",
   "execution_count": 35,
   "metadata": {
    "collapsed": true
   },
   "outputs": [],
   "source": [
    "import os\n",
    "import pandas as pd\n",
    "import matplotlib\n",
    "import numpy as np\n",
    "from scipy.stats import binom, chisquare, chi2\n",
    "\n",
    "wd = os.path.dirname(os.getcwd())"
   ]
  },
  {
   "cell_type": "code",
   "execution_count": 36,
   "outputs": [],
   "source": [
    "no_mask = pd.read_csv(wd+'/data/no_mask_no_vacc_10k.csv')"
   ],
   "metadata": {
    "collapsed": false
   }
  },
  {
   "cell_type": "code",
   "execution_count": 36,
   "outputs": [],
   "source": [],
   "metadata": {
    "collapsed": false
   }
  },
  {
   "cell_type": "markdown",
   "source": [
    "# Question 1\n",
    "What is the distribution of the number of kids that Tommy infects on Day 1?"
   ],
   "metadata": {
    "collapsed": false
   }
  },
  {
   "cell_type": "markdown",
   "source": [
    "First, pivot the raw data and return a dataframe that shows the number"
   ],
   "metadata": {
    "collapsed": false
   }
  },
  {
   "cell_type": "code",
   "execution_count": 37,
   "outputs": [
    {
     "data": {
      "text/plain": "   contagious  count  percent\n0         1.0   5566   0.5566\n1         2.0   3295   0.3295\n2         3.0    941   0.0941\n3         4.0    171   0.0171\n4         5.0     25   0.0025\n5         6.0      2   0.0002",
      "text/html": "<div>\n<style scoped>\n    .dataframe tbody tr th:only-of-type {\n        vertical-align: middle;\n    }\n\n    .dataframe tbody tr th {\n        vertical-align: top;\n    }\n\n    .dataframe thead th {\n        text-align: right;\n    }\n</style>\n<table border=\"1\" class=\"dataframe\">\n  <thead>\n    <tr style=\"text-align: right;\">\n      <th></th>\n      <th>contagious</th>\n      <th>count</th>\n      <th>percent</th>\n    </tr>\n  </thead>\n  <tbody>\n    <tr>\n      <th>0</th>\n      <td>1.0</td>\n      <td>5566</td>\n      <td>0.5566</td>\n    </tr>\n    <tr>\n      <th>1</th>\n      <td>2.0</td>\n      <td>3295</td>\n      <td>0.3295</td>\n    </tr>\n    <tr>\n      <th>2</th>\n      <td>3.0</td>\n      <td>941</td>\n      <td>0.0941</td>\n    </tr>\n    <tr>\n      <th>3</th>\n      <td>4.0</td>\n      <td>171</td>\n      <td>0.0171</td>\n    </tr>\n    <tr>\n      <th>4</th>\n      <td>5.0</td>\n      <td>25</td>\n      <td>0.0025</td>\n    </tr>\n    <tr>\n      <th>5</th>\n      <td>6.0</td>\n      <td>2</td>\n      <td>0.0002</td>\n    </tr>\n  </tbody>\n</table>\n</div>"
     },
     "execution_count": 37,
     "metadata": {},
     "output_type": "execute_result"
    }
   ],
   "source": [
    "def get_infected_count(day, df):\n",
    "    df = df.loc[no_mask['day'] == day]\n",
    "    pivot_tbl = pd.pivot_table(\n",
    "        df,\n",
    "        index=['contagious'],\n",
    "        values='trial',\n",
    "        aggfunc=[\"count\"],\n",
    "    ).reset_index()\n",
    "    pivot_tbl.columns = ['contagious', 'count']\n",
    "    pivot_tbl['percent'] = pivot_tbl['count']/pivot_tbl['count'].sum()\n",
    "    return df, pivot_tbl\n",
    "\n",
    "\n",
    "day_1_df, day_1_observed = get_infected_count(1, no_mask)\n",
    "day_1_observed"
   ],
   "metadata": {
    "collapsed": false
   }
  },
  {
   "cell_type": "markdown",
   "source": [
    "Now, plot a histogram of the frequencies that the number of infected appears on each day."
   ],
   "metadata": {
    "collapsed": false
   }
  },
  {
   "cell_type": "code",
   "execution_count": 38,
   "outputs": [
    {
     "data": {
      "text/plain": "<Axes: >"
     },
     "execution_count": 38,
     "metadata": {},
     "output_type": "execute_result"
    },
    {
     "data": {
      "text/plain": "<Figure size 640x480 with 1 Axes>",
      "image/png": "[encoded data removed]"
     },
     "metadata": {},
     "output_type": "display_data"
    }
   ],
   "source": [
    "day_1_df['infected'].hist()"
   ],
   "metadata": {
    "collapsed": false
   }
  },
  {
   "cell_type": "markdown",
   "source": [
    "Now, plot what a binomial(30, .02) distribution would look like"
   ],
   "metadata": {
    "collapsed": false
   }
  },
  {
   "cell_type": "code",
   "execution_count": 39,
   "outputs": [
    {
     "data": {
      "text/plain": "<Axes: xlabel='bucket'>"
     },
     "execution_count": 39,
     "metadata": {},
     "output_type": "execute_result"
    },
    {
     "data": {
      "text/plain": "<Figure size 640x480 with 1 Axes>",
      "image/png": "[encoded data removed]"
     },
     "metadata": {},
     "output_type": "display_data"
    }
   ],
   "source": [
    "def binomial_buckets(n, p, k):\n",
    "    df = pd.DataFrame()\n",
    "    df['bucket'] = np.arange(n + 1)\n",
    "    df['frequency'] = binom.pmf(np.arange(n + 1), n, p)\n",
    "    df['frequency'] = df['frequency']\n",
    "    df['population'] = round(df['frequency']*k,0)\n",
    "\n",
    "    return df.set_index('bucket')\n",
    "\n",
    "day_1_expected = binomial_buckets(30, .02, no_mask.trial.max()).loc[:5,:]\n",
    "\n",
    "day_1_expected['frequency'].plot(kind='bar')\n"
   ],
   "metadata": {
    "collapsed": false
   }
  },
  {
   "cell_type": "markdown",
   "source": [
    "Visual inspection tells us our hypothesis may be correct, and to reject the null hypothesis that the distribution is not binoial(30, .02). To confirm this, we will do a chi squared test to confirm our hypothesis."
   ],
   "metadata": {
    "collapsed": false
   }
  },
  {
   "cell_type": "markdown",
   "source": [
    "The sum of the population column may not equal the number of trials we had due to rounding, so we alter the last record to reflect the last bucket to have the remaining number of trials."
   ],
   "metadata": {
    "collapsed": false
   }
  },
  {
   "cell_type": "code",
   "execution_count": 40,
   "outputs": [
    {
     "data": {
      "text/plain": "10000.0"
     },
     "execution_count": 40,
     "metadata": {},
     "output_type": "execute_result"
    }
   ],
   "source": [
    "day_1_expected['population'].sum()"
   ],
   "metadata": {
    "collapsed": false
   }
  },
  {
   "cell_type": "code",
   "execution_count": 55,
   "outputs": [
    {
     "name": "stdout",
     "output_type": "stream",
     "text": [
      "Test Statistic: 7.01 \n",
      "P-value = 0.22\n"
     ]
    }
   ],
   "source": [
    "observed = day_1_observed['count']\n",
    "expected = day_1_expected['population'].astype(int)\n",
    "chi_sq = chisquare(observed,expected)\n",
    "print(f'Test Statistic: {round(chi_sq[0],2)} \\nP-value = {round(chi_sq[1],2)}')"
   ],
   "metadata": {
    "collapsed": false
   }
  },
  {
   "cell_type": "code",
   "execution_count": 48,
   "outputs": [
    {
     "name": "stdout",
     "output_type": "stream",
     "text": [
      "Critical x^2 value = 12.591587243743977\n"
     ]
    }
   ],
   "source": [
    "crit_val = chi2.ppf(1-.05, 6)\n",
    "print(f'Critical x^2 value = {crit_val}')"
   ],
   "metadata": {
    "collapsed": false
   }
  },
  {
   "cell_type": "markdown",
   "source": [
    "The Chi Square test statistic is less than the significant value at a .05% confidence level, and the p-value is greater than .05. Thus, we fail to reject the null hypothesis that the distirbution of students infected on day 1 is distributed as binomial(30, .02)"
   ],
   "metadata": {
    "collapsed": false
   }
  }
 ],
 "metadata": {
  "kernelspec": {
   "display_name": "Python 3",
   "language": "python",
   "name": "python3"
  },
  "language_info": {
   "codemirror_mode": {
    "name": "ipython",
    "version": 2
   },
   "file_extension": ".py",
   "mimetype": "text/x-python",
   "name": "python",
   "nbconvert_exporter": "python",
   "pygments_lexer": "ipython2",
   "version": "2.7.6"
  }
 },
 "nbformat": 4,
 "nbformat_minor": 0
}
